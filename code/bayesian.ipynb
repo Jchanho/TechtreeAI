{
 "cells": [
  {
   "cell_type": "markdown",
   "metadata": {},
   "source": [
    "### 강아지의 몸무게 측정\n",
    "    1회 - 13.9\n",
    "    2회 - 17.5\n",
    "    3회 - 14.1"
   ]
  },
  {
   "cell_type": "code",
   "execution_count": 1,
   "metadata": {},
   "outputs": [],
   "source": [
    "import numpy as np"
   ]
  },
  {
   "cell_type": "code",
   "execution_count": 2,
   "metadata": {},
   "outputs": [
    {
     "name": "stdout",
     "output_type": "stream",
     "text": [
      "3\n"
     ]
    }
   ],
   "source": [
    "weights = [13.9, 17.5, 14.1]\n",
    "\n",
    "number_of_times = len(weights)\n",
    "print(number_of_times)"
   ]
  },
  {
   "cell_type": "markdown",
   "metadata": {},
   "source": [
    "#### 평균 (mean)"
   ]
  },
  {
   "cell_type": "code",
   "execution_count": 3,
   "metadata": {},
   "outputs": [
    {
     "name": "stdout",
     "output_type": "stream",
     "text": [
      "15.1666666667\n"
     ]
    }
   ],
   "source": [
    "mean_mu = np.sum(weights) / number_of_times\n",
    "print(mean_mu)"
   ]
  },
  {
   "cell_type": "markdown",
   "metadata": {},
   "source": [
    "#### 표준편차 (standard deviation)"
   ]
  },
  {
   "cell_type": "code",
   "execution_count": 4,
   "metadata": {},
   "outputs": [
    {
     "name": "stdout",
     "output_type": "stream",
     "text": [
      "1.65193489245\n"
     ]
    }
   ],
   "source": [
    "standard_deviation_sigma = np.std(weights)\n",
    "print(standard_deviation_sigma)"
   ]
  },
  {
   "cell_type": "markdown",
   "metadata": {},
   "source": [
    "#### 분산 (variance)"
   ]
  },
  {
   "cell_type": "code",
   "execution_count": 5,
   "metadata": {},
   "outputs": [
    {
     "name": "stdout",
     "output_type": "stream",
     "text": [
      "2.72888888889\n",
      "2.72888888889\n"
     ]
    }
   ],
   "source": [
    "variance_square_of_sigma = np.var(weights)\n",
    "print(variance_square_of_sigma)\n",
    "print(standard_deviation_sigma**2)"
   ]
  },
  {
   "cell_type": "markdown",
   "metadata": {},
   "source": [
    "#### draw plot\n",
    "    normal_distribution 노트북 파일을 사용"
   ]
  },
  {
   "cell_type": "code",
   "execution_count": 7,
   "metadata": {},
   "outputs": [
    {
     "name": "stdout",
     "output_type": "stream",
     "text": [
      "평균 : 15.1666666667, 표준편차(분산 : 2.72888888889) : 1.65193489245\n",
      "(3,) (3,)\n"
     ]
    },
    {
     "name": "stderr",
     "output_type": "stream",
     "text": [
      "C:\\Program Files\\Anaconda3\\lib\\site-packages\\matplotlib\\axes\\_axes.py:531: UserWarning: No labelled objects found. Use label='...' kwarg on individual plots.\n",
      "  warnings.warn(\"No labelled objects found. \"\n"
     ]
    },
    {
     "data": {
      "image/png": "[encoded data removed]",
      "text/plain": [
       "<matplotlib.figure.Figure at 0x268feb33208>"
      ]
     },
     "metadata": {},
     "output_type": "display_data"
    }
   ],
   "source": [
    "import matplotlib.pyplot as plt\n",
    "\n",
    "# 한글 폰트 설정 : windows 10 환경\n",
    "from matplotlib.pyplot import rc\n",
    "rc('font',family='New Gulim')\n",
    "\n",
    "num_samples = 1000000    # 샘플링할 정규분포값의 갯수 (test : 100, 1000, 10000, ....)\n",
    "\n",
    "# wiki 그래프에 나온 4가지 경우를 설정\n",
    "mu = [mean_mu]    # 평균 - mu is mean or expectation of the distribution (and also its median and mode).\n",
    "sigma_square = [variance_square_of_sigma]    # 분산 - sigma**2 is variance\n",
    "\n",
    "# plot parametes\n",
    "x_from = 10\n",
    "x_to = 20\n",
    "num_bins = 250\n",
    "plot_color = ['b-']\n",
    "description_legend = None\n",
    "\n",
    "bins = np.linspace(x_from, x_to, num_bins)    # 구간을 나누는 단위 : 큰 값을 사용하면 graph가 세밀해진다. (test : 50, 100, 250, 500, ....)\n",
    "\n",
    "# draw normal distribution\n",
    "for i in range(len(mu)):\n",
    "    sigma = sigma_square[i] ** 0.5    # 표준편차 - sigma is standard deviation\n",
    "    description = \"평균 : \" + str(mu[i]) + \", 표준편차(분산 : \" + str(sigma_square[i]) + \") : \" + str(sigma)\n",
    "    description_label = \"N(\" + str(mu[i]) + \", \" + str(sigma_square[i]) + \")\"\n",
    "    print(description)\n",
    "    if mu[i] == 0 and sigma == 1.0:\n",
    "        print(\"\\t평균이 0이고 표준편차가 1인 정규분포 N(0,1)을 표준정규분포라 한다.\")\n",
    "    x = np.random.normal(mu[i], sigma, num_samples)\n",
    "    px, _ = np.histogram(x, bins = bins, density = True)\n",
    "    v = np.linspace(x_from, x_to, num=len(px))\n",
    "    #l = plt.plot(v, px, plot_color[i], linewidth=1, label = description_label)\n",
    "    l = plt.plot(v, px, plot_color[i], linewidth=1)\n",
    "\n",
    "# 샘플링한 몸무게를 표시\n",
    "weights_y = [0.2] * number_of_times\n",
    "print(np.shape(weights), np.shape(weights_y))\n",
    "plt.plot(weights, weights_y, 'bo')\n",
    "    \n",
    "# 평균을 표시\n",
    "mean_y = [0.2]\n",
    "plt.plot(mu, mean_y, 'ro')\n",
    "    \n",
    "plt.legend()\n",
    "plt.title('확률 밀도 함수')\n",
    "plt.xlabel('Data values')\n",
    "plt.ylabel('Probability density')\n",
    "plt.show()\n",
    "plt.close()"
   ]
  },
  {
   "cell_type": "code",
   "execution_count": null,
   "metadata": {},
   "outputs": [],
   "source": []
  }
 ],
 "metadata": {
  "kernelspec": {
   "display_name": "Python [default]",
   "language": "python",
   "name": "python3"
  },
  "language_info": {
   "codemirror_mode": {
    "name": "ipython",
    "version": 3
   },
   "file_extension": ".py",
   "mimetype": "text/x-python",
   "name": "python",
   "nbconvert_exporter": "python",
   "pygments_lexer": "ipython3",
   "version": "3.5.2"
  }
 },
 "nbformat": 4,
 "nbformat_minor": 1
}
