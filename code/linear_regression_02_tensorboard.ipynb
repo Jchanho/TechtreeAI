{
 "cells": [
  {
   "cell_type": "markdown",
   "metadata": {},
   "source": [
    "### 제일 간단한 수준의 linear regression의 코드를 리뷰해보자\n",
    "    1. Tensorflow의 기본 뼈대 기능을 넣어보자\n",
    "        tensorboard\n",
    "        학습이 오래 걸리는 경우를 위해 저장/불러오기 (later)\n",
    "        "
   ]
  },
  {
   "cell_type": "code",
   "execution_count": 1,
   "metadata": {},
   "outputs": [],
   "source": [
    "import tensorflow as tf\n",
    "import numpy as np"
   ]
  },
  {
   "cell_type": "code",
   "execution_count": 2,
   "metadata": {},
   "outputs": [],
   "source": [
    "x_train = [1., 2., 3., 4., 6., 7., 8., 9., 10.]\n",
    "y_groundtruth = [1., 2., 3., 4., 6., 7., 8., 9., 10.]"
   ]
  },
  {
   "cell_type": "code",
   "execution_count": 3,
   "metadata": {},
   "outputs": [],
   "source": [
    "W = tf.Variable([.3], dtype=tf.float32, name=\"W\")\n",
    "b = tf.Variable([-.3], dtype=tf.float32, name=\"b\")\n",
    "x = tf.placeholder(tf.float32, name=\"x\")\n",
    "y_hat = W * x + b"
   ]
  },
  {
   "cell_type": "code",
   "execution_count": 4,
   "metadata": {},
   "outputs": [],
   "source": [
    "#print(sess.run(y_hat, {x: x_train}))"
   ]
  },
  {
   "cell_type": "code",
   "execution_count": 5,
   "metadata": {},
   "outputs": [],
   "source": [
    "y = tf.placeholder(tf.float32, name=\"y\")"
   ]
  },
  {
   "cell_type": "code",
   "execution_count": 6,
   "metadata": {},
   "outputs": [],
   "source": [
    "#print(sess.run(loss, {x: x_train, y: y_groundtruth}))"
   ]
  },
  {
   "cell_type": "code",
   "execution_count": 7,
   "metadata": {},
   "outputs": [],
   "source": [
    "# loss\n",
    "loss = tf.reduce_sum(tf.square(y_hat - y)) # sum of the squares\n",
    "# optimizer\n",
    "optimizer = tf.train.GradientDescentOptimizer(0.001)\n",
    "train = optimizer.minimize(loss)"
   ]
  },
  {
   "cell_type": "code",
   "execution_count": 8,
   "metadata": {},
   "outputs": [],
   "source": [
    "init = tf.global_variables_initializer()\n",
    "sess = tf.Session()\n",
    "sess.run(init) # reset values to incorrect defaults."
   ]
  },
  {
   "cell_type": "code",
   "execution_count": 9,
   "metadata": {},
   "outputs": [],
   "source": [
    "W_hist = tf.summary.histogram(\"Weight\", W)\n",
    "b_hist = tf.summary.histogram(\"bias\", b)\n",
    "\n",
    "y_hat_hist = tf.summary.histogram(\"hypothesis\", y_hat)\n",
    "\n",
    "loss_scal = tf.summary.scalar(\"loss\", loss)\n",
    "\n",
    "# tensorboard --logdir=./logs/linear_regression_logs\n",
    "merged_summary = tf.summary.merge_all()\n",
    "writer = tf.summary.FileWriter(\"./logs/linear_regression_r0_01\")\n",
    "writer.add_graph(sess.graph)  # Show the graph"
   ]
  },
  {
   "cell_type": "code",
   "execution_count": 10,
   "metadata": {},
   "outputs": [
    {
     "name": "stdout",
     "output_type": "stream",
     "text": [
      "W: [ 1.00000024] b: [ -1.42995520e-06] loss: 6.0254e-12\n"
     ]
    }
   ],
   "source": [
    "for step in range(5000):\n",
    "    summary, _ = sess.run([merged_summary, train], {x: x_train, y: y_groundtruth})\n",
    "    \n",
    "    writer.add_summary(summary, global_step=step)\n",
    "\n",
    "# evaluate training accuracy\n",
    "curr_W, curr_b, curr_loss = sess.run([W, b, loss], {x: x_train, y: y_groundtruth})\n",
    "print(\"W: %s b: %s loss: %s\"%(curr_W, curr_b, curr_loss))"
   ]
  },
  {
   "cell_type": "code",
   "execution_count": 11,
   "metadata": {},
   "outputs": [
    {
     "name": "stdout",
     "output_type": "stream",
     "text": [
      "x: 5.0, y: [ 4.99999952]\n"
     ]
    }
   ],
   "source": [
    "x_test = 5.\n",
    "y_predict = sess.run(y_hat, {x: x_test})\n",
    "print(\"x: %s, y: %s\"%(x_test, y_predict)) "
   ]
  },
  {
   "cell_type": "code",
   "execution_count": null,
   "metadata": {},
   "outputs": [],
   "source": []
  }
 ],
 "metadata": {
  "anaconda-cloud": {},
  "kernelspec": {
   "display_name": "Python [default]",
   "language": "python",
   "name": "python3"
  },
  "language_info": {
   "codemirror_mode": {
    "name": "ipython",
    "version": 3
   },
   "file_extension": ".py",
   "mimetype": "text/x-python",
   "name": "python",
   "nbconvert_exporter": "python",
   "pygments_lexer": "ipython3",
   "version": "3.5.2"
  }
 },
 "nbformat": 4,
 "nbformat_minor": 1
}
