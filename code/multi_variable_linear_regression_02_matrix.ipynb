{
 "cells": [
  {
   "cell_type": "markdown",
   "metadata": {},
   "source": [
    "### multi variable에 대한 linear regression의 코드를 리뷰해보자\n",
    "    1. 변수의 갯수에 따라 일일이 코딩하지 않도록 매트릭스 연산으로 처리"
   ]
  },
  {
   "cell_type": "code",
   "execution_count": 1,
   "metadata": {},
   "outputs": [],
   "source": [
    "import tensorflow as tf\n",
    "import numpy as np\n",
    "\n",
    "tf.set_random_seed(777)  # for reproducibility"
   ]
  },
  {
   "cell_type": "code",
   "execution_count": 4,
   "metadata": {},
   "outputs": [],
   "source": [
    "x_data = [[73., 80., 75.],\n",
    "          [93., 88., 93.],\n",
    "          [89., 91., 90.],\n",
    "          [96., 98., 100.],\n",
    "          [73., 66., 70.]]\n",
    "y_data = [[152.],\n",
    "          [185.],\n",
    "          [180.],\n",
    "          [196.],\n",
    "          [142.]]"
   ]
  },
  {
   "cell_type": "code",
   "execution_count": 5,
   "metadata": {},
   "outputs": [],
   "source": [
    "X = tf.placeholder(tf.float32, shape=[None, 3])\n",
    "Y = tf.placeholder(tf.float32, shape=[None, 1])"
   ]
  },
  {
   "cell_type": "code",
   "execution_count": 6,
   "metadata": {},
   "outputs": [],
   "source": [
    "W = tf.Variable(tf.random_normal([3, 1]), name='weight')\n",
    "b = tf.Variable(tf.random_normal([1]), name='bias')\n",
    "# Hypothesis / y hat\n",
    "y_hat = tf.matmul(X, W) + b"
   ]
  },
  {
   "cell_type": "code",
   "execution_count": 7,
   "metadata": {},
   "outputs": [],
   "source": [
    "# cost/loss function\n",
    "loss = tf.reduce_mean(tf.square(y_hat - Y)) # sum of the squares\n",
    "# optimizer\n",
    "optimizer = tf.train.GradientDescentOptimizer(learning_rate=1e-5)\n",
    "train = optimizer.minimize(loss)"
   ]
  },
  {
   "cell_type": "code",
   "execution_count": 8,
   "metadata": {},
   "outputs": [],
   "source": [
    "init = tf.global_variables_initializer()\n",
    "sess = tf.Session()\n",
    "sess.run(init)"
   ]
  },
  {
   "cell_type": "code",
   "execution_count": 9,
   "metadata": {},
   "outputs": [],
   "source": [
    "W_hist = tf.summary.histogram(\"Weight\", W)\n",
    "b_hist = tf.summary.histogram(\"bias\", b)\n",
    "\n",
    "y_hat_hist = tf.summary.histogram(\"hypothesis\", y_hat)\n",
    "\n",
    "loss_scal = tf.summary.scalar(\"loss\", loss)\n",
    "\n",
    "# tensorboard --logdir=./logs/linear_regression_logs\n",
    "merged_summary = tf.summary.merge_all()\n",
    "writer = tf.summary.FileWriter(\"./logs/multi_variable_linear_regression_r0_02\")\n",
    "writer.add_graph(sess.graph)  # Show the graph"
   ]
  },
  {
   "cell_type": "code",
   "execution_count": 10,
   "metadata": {},
   "outputs": [
    {
     "name": "stdout",
     "output_type": "stream",
     "text": [
      "0 loss:  9684.7 \n",
      "Prediction:  [[ 60.02045059]\n",
      " [ 82.38284302]\n",
      " [ 75.8680954 ]\n",
      " [ 84.46101379]\n",
      " [ 63.5871582 ]]\n",
      "100 loss:  6.03817 \n",
      "Prediction:  [[ 147.39964294]\n",
      " [ 187.2414093 ]\n",
      " [ 179.27313232]\n",
      " [ 197.05130005]\n",
      " [ 143.539505  ]]\n",
      "200 loss:  5.78674 \n",
      "Prediction:  [[ 147.4848938 ]\n",
      " [ 187.18347168]\n",
      " [ 179.29989624]\n",
      " [ 197.06552124]\n",
      " [ 143.46781921]]\n",
      "300 loss:  5.5483 \n",
      "Prediction:  [[ 147.56794739]\n",
      " [ 187.12709045]\n",
      " [ 179.32603455]\n",
      " [ 197.07928467]\n",
      " [ 143.39814758]]\n",
      "400 loss:  5.32217 \n",
      "Prediction:  [[ 147.64880371]\n",
      " [ 187.07214355]\n",
      " [ 179.35145569]\n",
      " [ 197.09254456]\n",
      " [ 143.33036804]]\n",
      "500 loss:  5.10771 \n",
      "Prediction:  [[ 147.72758484]\n",
      " [ 187.01867676]\n",
      " [ 179.37625122]\n",
      " [ 197.10539246]\n",
      " [ 143.26451111]]\n",
      "600 loss:  4.90429 \n",
      "Prediction:  [[ 147.80429077]\n",
      " [ 186.96658325]\n",
      " [ 179.40039062]\n",
      " [ 197.11776733]\n",
      " [ 143.20045471]]\n",
      "700 loss:  4.71136 \n",
      "Prediction:  [[ 147.87901306]\n",
      " [ 186.9158783 ]\n",
      " [ 179.4239502 ]\n",
      " [ 197.12973022]\n",
      " [ 143.13821411]]\n",
      "800 loss:  4.52829 \n",
      "Prediction:  [[ 147.95181274]\n",
      " [ 186.86650085]\n",
      " [ 179.44691467]\n",
      " [ 197.14126587]\n",
      " [ 143.07769775]]\n",
      "900 loss:  4.35464 \n",
      "Prediction:  [[ 148.02270508]\n",
      " [ 186.81840515]\n",
      " [ 179.46928406]\n",
      " [ 197.15238953]\n",
      " [ 143.01885986]]\n",
      "1000 loss:  4.1899 \n",
      "Prediction:  [[ 148.09176636]\n",
      " [ 186.77159119]\n",
      " [ 179.49108887]\n",
      " [ 197.16313171]\n",
      " [ 142.96166992]]\n",
      "1100 loss:  4.03357 \n",
      "Prediction:  [[ 148.15901184]\n",
      " [ 186.72595215]\n",
      " [ 179.5123291 ]\n",
      " [ 197.17346191]\n",
      " [ 142.90605164]]\n",
      "1200 loss:  3.88525 \n",
      "Prediction:  [[ 148.22454834]\n",
      " [ 186.68157959]\n",
      " [ 179.53308105]\n",
      " [ 197.18344116]\n",
      " [ 142.85202026]]\n",
      "1300 loss:  3.74448 \n",
      "Prediction:  [[ 148.2883606 ]\n",
      " [ 186.63830566]\n",
      " [ 179.55325317]\n",
      " [ 197.19302368]\n",
      " [ 142.79949951]]\n",
      "1400 loss:  3.61086 \n",
      "Prediction:  [[ 148.35057068]\n",
      " [ 186.59620667]\n",
      " [ 179.57296753]\n",
      " [ 197.20230103]\n",
      " [ 142.74845886]]\n",
      "1500 loss:  3.48404 \n",
      "Prediction:  [[ 148.41114807]\n",
      " [ 186.55519104]\n",
      " [ 179.59217834]\n",
      " [ 197.2111969 ]\n",
      " [ 142.69885254]]\n",
      "1600 loss:  3.36368 \n",
      "Prediction:  [[ 148.47013855]\n",
      " [ 186.51524353]\n",
      " [ 179.61088562]\n",
      " [ 197.21975708]\n",
      " [ 142.65061951]]\n",
      "1700 loss:  3.24939 \n",
      "Prediction:  [[ 148.52763367]\n",
      " [ 186.47633362]\n",
      " [ 179.62913513]\n",
      " [ 197.22799683]\n",
      " [ 142.60375977]]\n",
      "1800 loss:  3.14088 \n",
      "Prediction:  [[ 148.58363342]\n",
      " [ 186.43843079]\n",
      " [ 179.64692688]\n",
      " [ 197.23591614]\n",
      " [ 142.55821228]]\n",
      "1900 loss:  3.03783 \n",
      "Prediction:  [[ 148.63819885]\n",
      " [ 186.40150452]\n",
      " [ 179.66426086]\n",
      " [ 197.24353027]\n",
      " [ 142.51396179]]\n",
      "2000 loss:  2.94001 \n",
      "Prediction:  [[ 148.69134521]\n",
      " [ 186.36558533]\n",
      " [ 179.68119812]\n",
      " [ 197.25083923]\n",
      " [ 142.47094727]]\n"
     ]
    }
   ],
   "source": [
    "for step in range(2001):\n",
    "    summary, loss_value, y_hat_value, _ = sess.run([merged_summary, loss, y_hat, train], {X: x_data, Y: y_data})\n",
    "\n",
    "    if step % 100 == 0:\n",
    "        print(step, \"loss: \", loss_value, \"\\nPrediction: \", y_hat_value)\n",
    "\n",
    "    writer.add_summary(summary, global_step=step)"
   ]
  },
  {
   "cell_type": "code",
   "execution_count": 11,
   "metadata": {},
   "outputs": [
    {
     "name": "stdout",
     "output_type": "stream",
     "text": [
      "X :  [[87.0, 82.0, 91.0]] \n",
      "Prediction:  [[ 178.82533264]]\n"
     ]
    }
   ],
   "source": [
    "# 대충 x1, x2, x3 값을 넣고 y 값을 prediction 해보자\n",
    "x_test = [[87., 82., 91.]]\n",
    "y_hat_value = sess.run([y_hat], {X: x_test})\n",
    "print(\"X : \", x_test, \"\\nPrediction: \", y_hat_value[0])\n"
   ]
  },
  {
   "cell_type": "code",
   "execution_count": null,
   "metadata": {
    "collapsed": true
   },
   "outputs": [],
   "source": []
  }
 ],
 "metadata": {
  "anaconda-cloud": {},
  "kernelspec": {
   "display_name": "Python [default]",
   "language": "python",
   "name": "python3"
  },
  "language_info": {
   "codemirror_mode": {
    "name": "ipython",
    "version": 3
   },
   "file_extension": ".py",
   "mimetype": "text/x-python",
   "name": "python",
   "nbconvert_exporter": "python",
   "pygments_lexer": "ipython3",
   "version": "3.5.2"
  }
 },
 "nbformat": 4,
 "nbformat_minor": 1
}
