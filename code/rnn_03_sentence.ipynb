{
 "cells": [
  {
   "cell_type": "code",
   "execution_count": 1,
   "metadata": {},
   "outputs": [],
   "source": [
    "# Lab 12 Character Sequence RNN\n",
    "import tensorflow as tf\n",
    "import numpy as np\n",
    "tf.set_random_seed(777)  # reproducibility"
   ]
  },
  {
   "cell_type": "code",
   "execution_count": 2,
   "metadata": {},
   "outputs": [],
   "source": [
    "sample = \" if you want you\"\n",
    "idx2char = list(set(sample))  # index -> char\n",
    "char2idx = {c: i for i, c in enumerate(idx2char)}  # char -> idex"
   ]
  },
  {
   "cell_type": "code",
   "execution_count": 3,
   "metadata": {},
   "outputs": [
    {
     "name": "stdout",
     "output_type": "stream",
     "text": [
      "['u', ' ', 'w', 'a', 't', 'n', 'f', 'o', 'y', 'i']\n",
      "{'n': 5, 'u': 0, 'i': 9, ' ': 1, 'f': 6, 'w': 2, 'o': 7, 'y': 8, 'a': 3, 't': 4}\n"
     ]
    }
   ],
   "source": [
    "print(idx2char)\n",
    "print(char2idx)"
   ]
  },
  {
   "cell_type": "code",
   "execution_count": 4,
   "metadata": {},
   "outputs": [],
   "source": [
    "# hyper parameters\n",
    "dic_size = len(char2idx)  # RNN input size (one hot size)\n",
    "hidden_size = len(char2idx)  # RNN output size\n",
    "num_classes = len(char2idx)  # final output size (RNN or softmax, etc.)\n",
    "batch_size = 1  # one sample data, one batch\n",
    "sequence_length = len(sample) - 1  # number of lstm rollings (unit #)\n",
    "learning_rate = 0.1"
   ]
  },
  {
   "cell_type": "code",
   "execution_count": 5,
   "metadata": {},
   "outputs": [],
   "source": [
    "sample_idx = [char2idx[c] for c in sample]  # char to index\n",
    "x_data = [sample_idx[:-1]]  # X data sample (0 ~ n-1) hello: hell\n",
    "y_data = [sample_idx[1:]]   # Y label sample (1 ~ n) hello: ello"
   ]
  },
  {
   "cell_type": "code",
   "execution_count": 6,
   "metadata": {},
   "outputs": [],
   "source": [
    "X = tf.placeholder(tf.int32, [None, sequence_length])  # X data\n",
    "Y = tf.placeholder(tf.int32, [None, sequence_length])  # Y label\n",
    "\n",
    "x_one_hot = tf.one_hot(X, num_classes)  # one hot: 1 -> 0 1 0 0 0 0 0 0 0 0\n",
    "cell = tf.contrib.rnn.BasicLSTMCell(\n",
    "    num_units=hidden_size, state_is_tuple=True)\n",
    "initial_state = cell.zero_state(batch_size, tf.float32)\n",
    "outputs, _states = tf.nn.dynamic_rnn(\n",
    "    cell, x_one_hot, initial_state=initial_state, dtype=tf.float32)"
   ]
  },
  {
   "cell_type": "code",
   "execution_count": 7,
   "metadata": {},
   "outputs": [],
   "source": [
    "# FC layer\n",
    "X_for_fc = tf.reshape(outputs, [-1, hidden_size])\n",
    "outputs = tf.contrib.layers.fully_connected(X_for_fc, num_classes, activation_fn=None)\n",
    "\n",
    "# reshape out for sequence_loss\n",
    "outputs = tf.reshape(outputs, [batch_size, sequence_length, num_classes])\n",
    "\n",
    "weights = tf.ones([batch_size, sequence_length])\n",
    "sequence_loss = tf.contrib.seq2seq.sequence_loss(\n",
    "    logits=outputs, targets=Y, weights=weights)\n",
    "loss = tf.reduce_mean(sequence_loss)\n",
    "train = tf.train.AdamOptimizer(learning_rate=learning_rate).minimize(loss)\n",
    "\n",
    "prediction = tf.argmax(outputs, axis=2)"
   ]
  },
  {
   "cell_type": "code",
   "execution_count": 8,
   "metadata": {},
   "outputs": [
    {
     "name": "stdout",
     "output_type": "stream",
     "text": [
      "0 loss: 2.30139 Prediction: yyyyuuuyuuyyyyu\n",
      "1 loss: 2.19003 Prediction: y             u\n",
      "2 loss: 2.04968 Prediction:                \n",
      "3 loss: 1.90339 Prediction:      u        u\n",
      "4 loss: 1.69238 Prediction: y   ou want you\n",
      "5 loss: 1.41215 Prediction: yy youuwant you\n",
      "6 loss: 1.16672 Prediction: yyyyou want you\n",
      "7 loss: 0.929359 Prediction: yyyyou want you\n",
      "8 loss: 0.725162 Prediction: yfyyou want you\n",
      "9 loss: 0.562075 Prediction: ff you want you\n",
      "10 loss: 0.418525 Prediction: ff you want you\n",
      "11 loss: 0.30879 Prediction: ff you want you\n",
      "12 loss: 0.231907 Prediction: if you want you\n",
      "13 loss: 0.17031 Prediction: if you want you\n",
      "14 loss: 0.123593 Prediction: if you want you\n",
      "15 loss: 0.0899661 Prediction: if you want you\n",
      "16 loss: 0.0658881 Prediction: if you want you\n",
      "17 loss: 0.0487854 Prediction: if you want you\n",
      "18 loss: 0.0365688 Prediction: if you want you\n",
      "19 loss: 0.02759 Prediction: if you want you\n",
      "20 loss: 0.0208975 Prediction: if you want you\n",
      "21 loss: 0.0159995 Prediction: if you want you\n",
      "22 loss: 0.0124848 Prediction: if you want you\n",
      "23 loss: 0.00996668 Prediction: if you want you\n",
      "24 loss: 0.00814009 Prediction: if you want you\n",
      "25 loss: 0.00678816 Prediction: if you want you\n",
      "26 loss: 0.0057608 Prediction: if you want you\n",
      "27 loss: 0.00495555 Prediction: if you want you\n",
      "28 loss: 0.00430576 Prediction: if you want you\n",
      "29 loss: 0.00377065 Prediction: if you want you\n",
      "30 loss: 0.00332624 Prediction: if you want you\n",
      "31 loss: 0.00295741 Prediction: if you want you\n",
      "32 loss: 0.00265267 Prediction: if you want you\n",
      "33 loss: 0.00240201 Prediction: if you want you\n",
      "34 loss: 0.0021961 Prediction: if you want you\n",
      "35 loss: 0.00202647 Prediction: if you want you\n",
      "36 loss: 0.00188596 Prediction: if you want you\n",
      "37 loss: 0.00176832 Prediction: if you want you\n",
      "38 loss: 0.0016685 Prediction: if you want you\n",
      "39 loss: 0.00158241 Prediction: if you want you\n",
      "40 loss: 0.00150682 Prediction: if you want you\n",
      "41 loss: 0.00143938 Prediction: if you want you\n",
      "42 loss: 0.00137809 Prediction: if you want you\n",
      "43 loss: 0.00132199 Prediction: if you want you\n",
      "44 loss: 0.00127009 Prediction: if you want you\n",
      "45 loss: 0.00122188 Prediction: if you want you\n",
      "46 loss: 0.00117716 Prediction: if you want you\n",
      "47 loss: 0.00113568 Prediction: if you want you\n",
      "48 loss: 0.00109743 Prediction: if you want you\n",
      "49 loss: 0.0010623 Prediction: if you want you\n"
     ]
    }
   ],
   "source": [
    "with tf.Session() as sess:\n",
    "    sess.run(tf.global_variables_initializer())\n",
    "    for i in range(50):\n",
    "        l, _ = sess.run([loss, train], feed_dict={X: x_data, Y: y_data})\n",
    "        result = sess.run(prediction, feed_dict={X: x_data})\n",
    "\n",
    "        # print char using dic\n",
    "        result_str = [idx2char[c] for c in np.squeeze(result)]\n",
    "\n",
    "        print(i, \"loss:\", l, \"Prediction:\", ''.join(result_str))"
   ]
  },
  {
   "cell_type": "code",
   "execution_count": null,
   "metadata": {},
   "outputs": [],
   "source": []
  }
 ],
 "metadata": {
  "anaconda-cloud": {},
  "kernelspec": {
   "display_name": "Python [default]",
   "language": "python",
   "name": "python3"
  },
  "language_info": {
   "codemirror_mode": {
    "name": "ipython",
    "version": 3
   },
   "file_extension": ".py",
   "mimetype": "text/x-python",
   "name": "python",
   "nbconvert_exporter": "python",
   "pygments_lexer": "ipython3",
   "version": "3.5.2"
  }
 },
 "nbformat": 4,
 "nbformat_minor": 1
}
