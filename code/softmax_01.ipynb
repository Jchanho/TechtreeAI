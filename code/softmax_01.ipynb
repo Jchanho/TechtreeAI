{
 "cells": [
  {
   "cell_type": "markdown",
   "metadata": {},
   "source": [
    "### https://en.wikipedia.org/wiki/Softmax_function"
   ]
  },
  {
   "cell_type": "code",
   "execution_count": 1,
   "metadata": {},
   "outputs": [],
   "source": [
    "import math"
   ]
  },
  {
   "cell_type": "code",
   "execution_count": 2,
   "metadata": {},
   "outputs": [
    {
     "name": "stdout",
     "output_type": "stream",
     "text": [
      "[1.65, 2.72, 4.48, 54.6, 2.72, 1.65, 4.48]\n"
     ]
    }
   ],
   "source": [
    "z = [0.5, 1.0, 1.5, 4.0, 1.0, 0.5, 1.5]\n",
    "z_exp = [math.exp(i) for i in z]\n",
    "print([round(i, 2) for i in z_exp])"
   ]
  },
  {
   "cell_type": "code",
   "execution_count": 3,
   "metadata": {},
   "outputs": [
    {
     "name": "stdout",
     "output_type": "stream",
     "text": [
      "72.3\n"
     ]
    }
   ],
   "source": [
    "sum_z_exp = sum(z_exp)\n",
    "print(round(sum_z_exp, 2))"
   ]
  },
  {
   "cell_type": "code",
   "execution_count": 4,
   "metadata": {},
   "outputs": [
    {
     "name": "stdout",
     "output_type": "stream",
     "text": [
      "[0.023, 0.038, 0.062, 0.755, 0.038, 0.023, 0.062]\n",
      "[1.65, 2.72, 4.48, 54.6, 2.72, 1.65, 4.48]\n"
     ]
    }
   ],
   "source": [
    "softmax = [round(i / sum_z_exp, 3) for i in z_exp]\n",
    "print(softmax)\n",
    "print([round(i, 2) for i in z_exp])    # 눈으로 softmax 값과 비교하기 위해 한번 더 출력"
   ]
  },
  {
   "cell_type": "code",
   "execution_count": null,
   "metadata": {},
   "outputs": [],
   "source": []
  }
 ],
 "metadata": {
  "anaconda-cloud": {},
  "kernelspec": {
   "display_name": "Python [default]",
   "language": "python",
   "name": "python3"
  },
  "language_info": {
   "codemirror_mode": {
    "name": "ipython",
    "version": 3
   },
   "file_extension": ".py",
   "mimetype": "text/x-python",
   "name": "python",
   "nbconvert_exporter": "python",
   "pygments_lexer": "ipython3",
   "version": "3.5.2"
  }
 },
 "nbformat": 4,
 "nbformat_minor": 1
}
